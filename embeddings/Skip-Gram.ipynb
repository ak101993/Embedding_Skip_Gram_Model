{
 "cells": [
  {
   "cell_type": "markdown",
   "metadata": {},
   "source": [
    "# Skip-gram word2vec\n",
    "\n",
    "In this notebook, I'll lead you through using TensorFlow to implement the word2vec algorithm using the skip-gram architecture. By implementing this, you'll learn about embedding words for use in natural language processing. This will come in handy when dealing with things like machine translation.\n",
    "\n",
    "## Readings\n",
    "\n",
    "Here are the resources I used to build this notebook. I suggest reading these either beforehand or while you're working on this material.\n",
    "\n",
    "* A really good [conceptual overview](http://mccormickml.com/2016/04/19/word2vec-tutorial-the-skip-gram-model/) of word2vec from Chris McCormick \n",
    "* [First word2vec paper](https://arxiv.org/pdf/1301.3781.pdf) from Mikolov et al.\n",
    "* [NIPS paper](http://papers.nips.cc/paper/5021-distributed-representations-of-words-and-phrases-and-their-compositionality.pdf) with improvements for word2vec also from Mikolov et al.\n",
    "* An [implementation of word2vec](http://www.thushv.com/natural_language_processing/word2vec-part-1-nlp-with-deep-learning-with-tensorflow-skip-gram/) from Thushan Ganegedara\n",
    "* TensorFlow [word2vec tutorial](https://www.tensorflow.org/tutorials/word2vec)\n",
    "\n",
    "## Word embeddings\n",
    "\n",
    "When you're dealing with words in text, you end up with tens of thousands of classes to predict, one for each word. Trying to one-hot encode these words is massively inefficient, you'll have one element set to 1 and the other 50,000 set to 0. The matrix multiplication going into the first hidden layer will have almost all of the resulting values be zero. This a huge waste of computation. \n",
    "\n",
    "![one-hot encodings](assets/one_hot_encoding.png)\n",
    "\n",
    "To solve this problem and greatly increase the efficiency of our networks, we use what are called embeddings. Embeddings are just a fully connected layer like you've seen before. We call this layer the embedding layer and the weights are embedding weights. We skip the multiplication into the embedding layer by instead directly grabbing the hidden layer values from the weight matrix. We can do this because the multiplication of a one-hot encoded vector with a matrix returns the row of the matrix corresponding the index of the \"on\" input unit.\n",
    "\n",
    "![lookup](assets/lookup_matrix.png)\n",
    "\n",
    "Instead of doing the matrix multiplication, we use the weight matrix as a lookup table. We encode the words as integers, for example \"heart\" is encoded as 958, \"mind\" as 18094. Then to get hidden layer values for \"heart\", you just take the 958th row of the embedding matrix. This process is called an **embedding lookup** and the number of hidden units is the **embedding dimension**.\n",
    "\n",
    "<img src='assets/tokenize_lookup.png' width=500>\n",
    " \n",
    "There is nothing magical going on here. The embedding lookup table is just a weight matrix. The embedding layer is just a hidden layer. The lookup is just a shortcut for the matrix multiplication. The lookup table is trained just like any weight matrix as well.\n",
    "\n",
    "Embeddings aren't only used for words of course. You can use them for any model where you have a massive number of classes. A particular type of model called **Word2Vec** uses the embedding layer to find vector representations of words that contain semantic meaning.\n",
    "\n"
   ]
  },
  {
   "cell_type": "markdown",
   "metadata": {},
   "source": [
    "## Word2Vec\n",
    "\n",
    "The word2vec algorithm finds much more efficient representations by finding vectors that represent the words. These vectors also contain semantic information about the words. Words that show up in similar contexts, such as \"black\", \"white\", and \"red\" will have vectors near each other. There are two architectures for implementing word2vec, CBOW (Continuous Bag-Of-Words) and Skip-gram.\n",
    "\n",
    "<img src=\"assets/word2vec_architectures.png\" width=\"500\">\n",
    "\n",
    "In this implementation, we'll be using the skip-gram architecture because it performs better than CBOW. Here, we pass in a word and try to predict the words surrounding it in the text. In this way, we can train the network to learn representations for words that show up in similar contexts.\n",
    "\n",
    "First up, importing packages."
   ]
  },
  {
   "cell_type": "code",
   "execution_count": 2,
   "metadata": {},
   "outputs": [
    {
     "name": "stderr",
     "output_type": "stream",
     "text": [
      "/Users/akshay/anaconda3/lib/python3.6/importlib/_bootstrap.py:219: RuntimeWarning: compiletime version 3.5 of module 'tensorflow.python.framework.fast_tensor_util' does not match runtime version 3.6\n",
      "  return f(*args, **kwds)\n"
     ]
    }
   ],
   "source": [
    "import time\n",
    "\n",
    "import numpy as np\n",
    "import tensorflow as tf\n",
    "\n",
    "import utils"
   ]
  },
  {
   "cell_type": "markdown",
   "metadata": {},
   "source": [
    "Load the [text8 dataset](http://mattmahoney.net/dc/textdata.html), a file of cleaned up Wikipedia articles from Matt Mahoney. The next cell will download the data set to the `data` folder. Then you can extract it and delete the archive file to save storage space."
   ]
  },
  {
   "cell_type": "code",
   "execution_count": 3,
   "metadata": {},
   "outputs": [],
   "source": [
    "from urllib.request import urlretrieve\n",
    "from os.path import isfile, isdir\n",
    "from tqdm import tqdm\n",
    "import zipfile\n",
    "\n",
    "dataset_folder_path = 'data'\n",
    "dataset_filename = 'text8.zip'\n",
    "dataset_name = 'Text8 Dataset'\n",
    "\n",
    "class DLProgress(tqdm):\n",
    "    last_block = 0\n",
    "\n",
    "    def hook(self, block_num=1, block_size=1, total_size=None):\n",
    "        self.total = total_size\n",
    "        self.update((block_num - self.last_block) * block_size)\n",
    "        self.last_block = block_num\n",
    "\n",
    "if not isfile(dataset_filename):\n",
    "    with DLProgress(unit='B', unit_scale=True, miniters=1, desc=dataset_name) as pbar:\n",
    "        urlretrieve(\n",
    "            'http://mattmahoney.net/dc/text8.zip',\n",
    "            dataset_filename,\n",
    "            pbar.hook)\n",
    "\n",
    "if not isdir(dataset_folder_path):\n",
    "    with zipfile.ZipFile(dataset_filename) as zip_ref:\n",
    "        zip_ref.extractall(dataset_folder_path)\n",
    "        \n",
    "with open('data/text8') as f:\n",
    "    text = f.read()"
   ]
  },
  {
   "cell_type": "markdown",
   "metadata": {},
   "source": [
    "## Preprocessing\n",
    "\n",
    "Here I'm fixing up the text to make training easier. This comes from the `utils` module I wrote. The `preprocess` function coverts any punctuation into tokens, so a period is changed to ` <PERIOD> `. In this data set, there aren't any periods, but it will help in other NLP problems. I'm also removing all words that show up five or fewer times in the dataset. This will greatly reduce issues due to noise in the data and improve the quality of the vector representations. If you want to write your own functions for this stuff, go for it."
   ]
  },
  {
   "cell_type": "code",
   "execution_count": 4,
   "metadata": {},
   "outputs": [
    {
     "name": "stdout",
     "output_type": "stream",
     "text": [
      "['anarchism', 'originated', 'as', 'a', 'term', 'of', 'abuse', 'first', 'used', 'against', 'early', 'working', 'class', 'radicals', 'including', 'the', 'diggers', 'of', 'the', 'english', 'revolution', 'and', 'the', 'sans', 'culottes', 'of', 'the', 'french', 'revolution', 'whilst']\n"
     ]
    }
   ],
   "source": [
    "words = utils.preprocess(text)\n",
    "print(words[:30])"
   ]
  },
  {
   "cell_type": "code",
   "execution_count": 5,
   "metadata": {},
   "outputs": [
    {
     "name": "stdout",
     "output_type": "stream",
     "text": [
      "Total words: 16680599\n",
      "Unique words: 63641\n"
     ]
    }
   ],
   "source": [
    "print(\"Total words: {}\".format(len(words)))\n",
    "print(\"Unique words: {}\".format(len(set(words))))"
   ]
  },
  {
   "cell_type": "markdown",
   "metadata": {},
   "source": [
    "And here I'm creating dictionaries to covert words to integers and backwards, integers to words. The integers are assigned in descending frequency order, so the most frequent word (\"the\") is given the integer 0 and the next most frequent is 1 and so on. The words are converted to integers and stored in the list `int_words`."
   ]
  },
  {
   "cell_type": "code",
   "execution_count": 8,
   "metadata": {},
   "outputs": [
    {
     "name": "stderr",
     "output_type": "stream",
     "text": [
      "IOPub data rate exceeded.\n",
      "The notebook server will temporarily stop sending output\n",
      "to the client in order to avoid crashing it.\n",
      "To change this limit, set the config variable\n",
      "`--NotebookApp.iopub_data_rate_limit`.\n"
     ]
    }
   ],
   "source": [
    "vocab_to_int, int_to_vocab = utils.create_lookup_tables(words)\n",
    "int_words = [vocab_to_int[word] for word in words]\n",
    "print(vocab_to_int)\n",
    "print(int_words)"
   ]
  },
  {
   "cell_type": "markdown",
   "metadata": {},
   "source": [
    "## Subsampling\n",
    "\n",
    "Words that show up often such as \"the\", \"of\", and \"for\" don't provide much context to the nearby words. If we discard some of them, we can remove some of the noise from our data and in return get faster training and better representations. This process is called subsampling by Mikolov. For each word $w_i$ in the training set, we'll discard it with probability given by \n",
    "\n",
    "$$ P(w_i) = 1 - \\sqrt{\\frac{t}{f(w_i)}} $$\n",
    "\n",
    "where $t$ is a threshold parameter and $f(w_i)$ is the frequency of word $w_i$ in the total dataset.\n",
    "\n",
    "I'm going to leave this up to you as an exercise. Check out my solution to see how I did it.\n",
    "\n",
    "> **Exercise:** Implement subsampling for the words in `int_words`. That is, go through `int_words` and discard each word given the probablility $P(w_i)$ shown above. Note that $P(w_i)$ is that probability that a word is discarded. Assign the subsampled data to `train_words`."
   ]
  },
  {
   "cell_type": "code",
   "execution_count": 15,
   "metadata": {
    "collapsed": true
   },
   "outputs": [],
   "source": [
    "from collections import Counter\n",
    "import random\n",
    "\n",
    "threshold = 1e-5\n",
    "word_counts = Counter(int_words)\n",
    "total_count = len(int_words)\n",
    "freqs = {word: count/total_count for word, count in word_counts.items()}\n",
    "p_drop = {word: 1 - np.sqrt(threshold/freqs[word]) for word in word_counts}\n",
    "train_words = [word for word in int_words if random.random() < (1 - p_drop[word])]"
   ]
  },
  {
   "cell_type": "markdown",
   "metadata": {},
   "source": [
    "## Making batches"
   ]
  },
  {
   "cell_type": "markdown",
   "metadata": {},
   "source": [
    "Now that our data is in good shape, we need to get it into the proper form to pass it into our network. With the skip-gram architecture, for each word in the text, we want to grab all the words in a window around that word, with size $C$. \n",
    "\n",
    "From [Mikolov et al.](https://arxiv.org/pdf/1301.3781.pdf): \n",
    "\n",
    "\"Since the more distant words are usually less related to the current word than those close to it, we give less weight to the distant words by sampling less from those words in our training examples... If we choose $C = 5$, for each training word we will select randomly a number $R$ in range $< 1; C >$, and then use $R$ words from history and $R$ words from the future of the current word as correct labels.\"\n",
    "\n",
    "> **Exercise:** Implement a function `get_target` that receives a list of words, an index, and a window size, then returns a list of words in the window around the index. Make sure to use the algorithm described above, where you chose a random number of words to from the window."
   ]
  },
  {
   "cell_type": "code",
   "execution_count": 16,
   "metadata": {
    "collapsed": true
   },
   "outputs": [],
   "source": [
    "def get_target(words, idx, window_size=5):\n",
    "    ''' Get a list of words in a window around an index. '''\n",
    "    \n",
    "    R = np.random.randint(1, window_size+1)\n",
    "    start = idx - R if (idx - R) > 0 else 0\n",
    "    stop = idx + R\n",
    "    target_words = set(words[start:idx] + words[idx+1:stop+1])\n",
    "    \n",
    "    return list(target_words)"
   ]
  },
  {
   "cell_type": "markdown",
   "metadata": {},
   "source": [
    "Here's a function that returns batches for our network. The idea is that it grabs `batch_size` words from a words list. Then for each of those words, it gets the target words in the window. I haven't found a way to pass in a random number of target words and get it to work with the architecture, so I make one row per input-target pair. This is a generator function by the way, helps save memory."
   ]
  },
  {
   "cell_type": "code",
   "execution_count": 17,
   "metadata": {
    "collapsed": true
   },
   "outputs": [],
   "source": [
    "def get_batches(words, batch_size, window_size=5):\n",
    "    ''' Create a generator of word batches as a tuple (inputs, targets) '''\n",
    "    \n",
    "    n_batches = len(words)//batch_size\n",
    "    \n",
    "    # only full batches\n",
    "    words = words[:n_batches*batch_size]\n",
    "    \n",
    "    for idx in range(0, len(words), batch_size):\n",
    "        x, y = [], []\n",
    "        batch = words[idx:idx+batch_size]\n",
    "        for ii in range(len(batch)):\n",
    "            batch_x = batch[ii]\n",
    "            batch_y = get_target(batch, ii, window_size)\n",
    "            y.extend(batch_y)\n",
    "            x.extend([batch_x]*len(batch_y))\n",
    "        yield x, y\n",
    "    "
   ]
  },
  {
   "cell_type": "markdown",
   "metadata": {},
   "source": [
    "## Building the graph\n",
    "\n",
    "From [Chris McCormick's blog](http://mccormickml.com/2016/04/19/word2vec-tutorial-the-skip-gram-model/), we can see the general structure of our network.\n",
    "![embedding_network](./assets/skip_gram_net_arch.png)\n",
    "\n",
    "The input words are passed in as one-hot encoded vectors. This will go into a hidden layer of linear units, then into a softmax layer. We'll use the softmax layer to make a prediction like normal.\n",
    "\n",
    "The idea here is to train the hidden layer weight matrix to find efficient representations for our words. We can discard the softmax layer becuase we don't really care about making predictions with this network. We just want the embedding matrix so we can use it in other networks we build from the dataset.\n",
    "\n",
    "I'm going to have you build the graph in stages now. First off, creating the `inputs` and `labels` placeholders like normal.\n",
    "\n",
    "> **Exercise:** Assign `inputs` and `labels` using `tf.placeholder`. We're going to be passing in integers, so set the data types to `tf.int32`. The batches we're passing in will have varying sizes, so set the batch sizes to [`None`]. To make things work later, you'll need to set the second dimension of `labels` to `None` or `1`."
   ]
  },
  {
   "cell_type": "code",
   "execution_count": 18,
   "metadata": {
    "collapsed": true
   },
   "outputs": [],
   "source": [
    "train_graph = tf.Graph()\n",
    "with train_graph.as_default():\n",
    "    inputs = tf.placeholder(tf.int32, [None], name='inputs')\n",
    "    labels = tf.placeholder(tf.int32, [None, None], name='labels')"
   ]
  },
  {
   "cell_type": "markdown",
   "metadata": {},
   "source": [
    "## Embedding\n",
    "\n"
   ]
  },
  {
   "cell_type": "markdown",
   "metadata": {
    "collapsed": true
   },
   "source": [
    "The embedding matrix has a size of the number of words by the number of units in the hidden layer. So, if you have 10,000 words and 300 hidden units, the matrix will have size $10,000 \\times 300$. Remember that we're using tokenized data for our inputs, usually as integers, where the number of tokens is the number of words in our vocabulary.\n",
    "\n",
    "\n",
    "> **Exercise:** Tensorflow provides a convenient function [`tf.nn.embedding_lookup`](https://www.tensorflow.org/api_docs/python/tf/nn/embedding_lookup) that does this lookup for us. You pass in the embedding matrix and a tensor of integers, then it returns rows in the matrix corresponding to those integers. Below, set the number of embedding features you'll use (200 is a good start), create the embedding matrix variable, and use `tf.nn.embedding_lookup` to get the embedding tensors. For the embedding matrix, I suggest you initialize it with a uniform random numbers between -1 and 1 using [tf.random_uniform](https://www.tensorflow.org/api_docs/python/tf/random_uniform)."
   ]
  },
  {
   "cell_type": "code",
   "execution_count": 19,
   "metadata": {
    "collapsed": true
   },
   "outputs": [],
   "source": [
    "n_vocab = len(int_to_vocab)\n",
    "n_embedding = 200 # Number of embedding features \n",
    "with train_graph.as_default():\n",
    "    embedding = tf.Variable(tf.random_uniform((n_vocab, n_embedding), -1, 1))\n",
    "    embed = tf.nn.embedding_lookup(embedding, inputs)"
   ]
  },
  {
   "cell_type": "markdown",
   "metadata": {},
   "source": [
    "## Negative sampling\n",
    "\n"
   ]
  },
  {
   "cell_type": "markdown",
   "metadata": {},
   "source": [
    "For every example we give the network, we train it using the output from the softmax layer. That means for each input, we're making very small changes to millions of weights even though we only have one true example. This makes training the network very inefficient. We can approximate the loss from the softmax layer by only updating a small subset of all the weights at once. We'll update the weights for the correct label, but only a small number of incorrect labels. This is called [\"negative sampling\"](http://papers.nips.cc/paper/5021-distributed-representations-of-words-and-phrases-and-their-compositionality.pdf). Tensorflow has a convenient function to do this, [`tf.nn.sampled_softmax_loss`](https://www.tensorflow.org/api_docs/python/tf/nn/sampled_softmax_loss).\n",
    "\n",
    "> **Exercise:** Below, create weights and biases for the softmax layer. Then, use [`tf.nn.sampled_softmax_loss`](https://www.tensorflow.org/api_docs/python/tf/nn/sampled_softmax_loss) to calculate the loss. Be sure to read the documentation to figure out how it works."
   ]
  },
  {
   "cell_type": "code",
   "execution_count": 20,
   "metadata": {
    "collapsed": true
   },
   "outputs": [],
   "source": [
    "# Number of negative labels to sample\n",
    "n_sampled = 100\n",
    "with train_graph.as_default():\n",
    "    softmax_w = tf.Variable(tf.truncated_normal((n_vocab, n_embedding), stddev=0.1))\n",
    "    softmax_b = tf.Variable(tf.zeros(n_vocab))\n",
    "    \n",
    "    # Calculate the loss using negative sampling\n",
    "    loss = tf.nn.sampled_softmax_loss(softmax_w, softmax_b, \n",
    "                                      labels, embed,\n",
    "                                      n_sampled, n_vocab)\n",
    "    \n",
    "    cost = tf.reduce_mean(loss)\n",
    "    optimizer = tf.train.AdamOptimizer().minimize(cost)"
   ]
  },
  {
   "cell_type": "markdown",
   "metadata": {},
   "source": [
    "## Validation\n",
    "\n",
    "This code is from Thushan Ganegedara's implementation. Here we're going to choose a few common words and few uncommon words. Then, we'll print out the closest words to them. It's a nice way to check that our embedding table is grouping together words with similar semantic meanings."
   ]
  },
  {
   "cell_type": "code",
   "execution_count": 21,
   "metadata": {
    "collapsed": true
   },
   "outputs": [],
   "source": [
    "with train_graph.as_default():\n",
    "    ## From Thushan Ganegedara's implementation\n",
    "    valid_size = 16 # Random set of words to evaluate similarity on.\n",
    "    valid_window = 100\n",
    "    # pick 8 samples from (0,100) and (1000,1100) each ranges. lower id implies more frequent \n",
    "    valid_examples = np.array(random.sample(range(valid_window), valid_size//2))\n",
    "    valid_examples = np.append(valid_examples, \n",
    "                               random.sample(range(1000,1000+valid_window), valid_size//2))\n",
    "\n",
    "    valid_dataset = tf.constant(valid_examples, dtype=tf.int32)\n",
    "    \n",
    "    # We use the cosine distance:\n",
    "    norm = tf.sqrt(tf.reduce_sum(tf.square(embedding), 1, keep_dims=True))\n",
    "    normalized_embedding = embedding / norm\n",
    "    valid_embedding = tf.nn.embedding_lookup(normalized_embedding, valid_dataset)\n",
    "    similarity = tf.matmul(valid_embedding, tf.transpose(normalized_embedding))"
   ]
  },
  {
   "cell_type": "code",
   "execution_count": null,
   "metadata": {},
   "outputs": [
    {
     "name": "stdout",
     "output_type": "stream",
     "text": [
      "mkdir: checkpoints: File exists\r\n"
     ]
    }
   ],
   "source": [
    "# If the checkpoints directory doesn't exist:\n",
    "!mkdir checkpoints"
   ]
  },
  {
   "cell_type": "code",
   "execution_count": null,
   "metadata": {
    "scrolled": false
   },
   "outputs": [
    {
     "name": "stdout",
     "output_type": "stream",
     "text": [
      "Epoch 1/10 Iteration: 100 Avg. Training loss: 5.6840 0.3930 sec/batch\n",
      "Epoch 1/10 Iteration: 200 Avg. Training loss: 5.6195 0.3498 sec/batch\n",
      "Epoch 1/10 Iteration: 300 Avg. Training loss: 5.4740 0.3144 sec/batch\n",
      "Epoch 1/10 Iteration: 400 Avg. Training loss: 5.5906 0.3303 sec/batch\n",
      "Epoch 1/10 Iteration: 500 Avg. Training loss: 5.5233 0.3476 sec/batch\n",
      "Epoch 1/10 Iteration: 600 Avg. Training loss: 5.5160 0.3158 sec/batch\n",
      "Epoch 1/10 Iteration: 700 Avg. Training loss: 5.5884 0.3101 sec/batch\n",
      "Epoch 1/10 Iteration: 800 Avg. Training loss: 5.5533 0.3621 sec/batch\n",
      "Epoch 1/10 Iteration: 900 Avg. Training loss: 5.4859 0.3136 sec/batch\n",
      "Epoch 1/10 Iteration: 1000 Avg. Training loss: 5.4228 0.3109 sec/batch\n",
      "Nearest to for: tacitus, migr, atwater, bragging, elbe, impress, collection, colourless,\n",
      "Nearest to in: megadeth, deutsch, ferns, determinants, wendover, shares, cornish, productivity,\n",
      "Nearest to than: atlantic, beyer, meningitis, darwin, kassel, anemia, nicer, dolphins,\n",
      "Nearest to will: weilburg, rantissi, gogo, warden, disapproving, contae, anglet, grumpy,\n",
      "Nearest to between: lengthy, estrella, catharism, retailers, licklider, huston, reacquired, sealed,\n",
      "Nearest to called: role, earle, baccal, bahadur, soloists, treatments, derwent, archduchess,\n",
      "Nearest to use: testers, bagapsh, activism, pioneers, each, lille, campaigning, savagely,\n",
      "Nearest to most: pds, kampf, ju, pigweed, opec, mehrgarh, unisys, ribbons,\n",
      "Nearest to award: altogether, mediated, albans, pretorius, anthropic, planetfall, coens, resurgence,\n",
      "Nearest to mainly: climbs, standout, badminton, steep, caldwell, rebuilt, classifies, gamma,\n",
      "Nearest to instance: mackay, dressers, arrived, hardship, petropavlovsk, scrubbed, conservation, codification,\n",
      "Nearest to police: hitch, populism, keitel, gladius, typographical, igg, kroeber, reed,\n",
      "Nearest to assembly: determines, masterplan, eva, indirectly, midland, meinhof, jewels, sportspeople,\n",
      "Nearest to creation: over, rpr, amplitude, lists, rollin, buttstock, ard, interleaving,\n",
      "Nearest to articles: listened, inimical, describing, tice, childish, premarital, poetry, double,\n",
      "Nearest to event: propagates, aki, furioso, coldness, isomers, mobster, stalin, wahhabis,\n",
      "Epoch 1/10 Iteration: 1100 Avg. Training loss: 5.4682 0.3192 sec/batch\n",
      "Epoch 1/10 Iteration: 1200 Avg. Training loss: 5.3996 0.3072 sec/batch\n",
      "Epoch 1/10 Iteration: 1300 Avg. Training loss: 5.3725 0.3104 sec/batch\n",
      "Epoch 1/10 Iteration: 1400 Avg. Training loss: 5.2401 0.3117 sec/batch\n",
      "Epoch 1/10 Iteration: 1500 Avg. Training loss: 5.1965 0.3557 sec/batch\n",
      "Epoch 1/10 Iteration: 1600 Avg. Training loss: 5.1873 0.3626 sec/batch\n",
      "Epoch 1/10 Iteration: 1700 Avg. Training loss: 5.1086 0.3630 sec/batch\n",
      "Epoch 1/10 Iteration: 1800 Avg. Training loss: 5.0942 0.3657 sec/batch\n",
      "Epoch 1/10 Iteration: 1900 Avg. Training loss: 5.0522 0.3806 sec/batch\n",
      "Epoch 1/10 Iteration: 2000 Avg. Training loss: 4.9887 0.3803 sec/batch\n",
      "Nearest to for: descriptions, collection, equipment, tacitus, impress, differently, likeness, bragging,\n",
      "Nearest to in: advanced, shares, atmosphere, deutsch, shut, thermodynamics, roleplaying, megadeth,\n",
      "Nearest to than: atlantic, darwin, studded, stopped, him, uncle, impermanence, beyer,\n",
      "Nearest to will: term, upon, businesswoman, hodges, contae, wet, warden, gogo,\n",
      "Nearest to between: lengthy, rights, sealed, estrella, retailers, cat, catharism, demolished,\n",
      "Nearest to called: role, earle, night, contact, monitoring, closed, village, roddenberry,\n",
      "Nearest to use: each, testers, pioneers, activism, lille, bagapsh, campaigning, demian,\n",
      "Nearest to most: been, pds, canadians, wgn, pigweed, ju, stored, unisys,\n",
      "Nearest to award: altogether, albans, judge, resurgence, mediated, planetfall, placing, anthropic,\n",
      "Nearest to mainly: rebuilt, steep, chief, became, climbs, gamma, classifies, caldwell,\n",
      "Nearest to instance: arrived, conservation, given, king, dance, dressers, mackay, updating,\n",
      "Nearest to police: hitch, populism, keitel, certain, gladius, reed, kroeber, comical,\n",
      "Nearest to assembly: determines, masterplan, indirectly, midland, bend, amid, jewels, mormon,\n",
      "Nearest to creation: over, lists, lost, amplitude, geographically, fox, particularly, warsaw,\n",
      "Nearest to articles: listened, describing, double, childish, flanders, poetry, inimical, oxygen,\n",
      "Nearest to event: corrections, stalin, mobster, len, aki, isomers, entrance, usc,\n",
      "Epoch 1/10 Iteration: 2100 Avg. Training loss: 4.9517 0.3725 sec/batch\n",
      "Epoch 1/10 Iteration: 2200 Avg. Training loss: 4.9239 0.3687 sec/batch\n",
      "Epoch 1/10 Iteration: 2300 Avg. Training loss: 4.8764 0.3670 sec/batch\n",
      "Epoch 1/10 Iteration: 2400 Avg. Training loss: 4.8618 0.3666 sec/batch\n",
      "Epoch 1/10 Iteration: 2500 Avg. Training loss: 4.8181 0.3601 sec/batch\n",
      "Epoch 1/10 Iteration: 2600 Avg. Training loss: 4.7998 0.3649 sec/batch\n",
      "Epoch 1/10 Iteration: 2700 Avg. Training loss: 4.7942 0.3662 sec/batch\n",
      "Epoch 1/10 Iteration: 2800 Avg. Training loss: 4.7976 0.3660 sec/batch\n",
      "Epoch 1/10 Iteration: 2900 Avg. Training loss: 4.8104 0.3644 sec/batch\n",
      "Epoch 1/10 Iteration: 3000 Avg. Training loss: 4.8154 0.3661 sec/batch\n",
      "Nearest to for: equipment, tacitus, descriptions, likeness, impress, migr, colourless, collection,\n",
      "Nearest to in: productivity, shares, deutsch, thermodynamics, credence, lifetime, advanced, ferns,\n",
      "Nearest to than: atlantic, darwin, anemia, deadly, meningitis, tops, implying, vacancy,\n",
      "Nearest to will: term, peers, businesswoman, gogo, hodges, upon, contae, warden,\n",
      "Nearest to between: lengthy, retailers, sealed, rights, estrella, cat, email, cubans,\n",
      "Nearest to called: role, earle, treatments, night, guidebook, roddenberry, contact, monitoring,\n",
      "Nearest to use: testers, pioneers, each, campaigning, offense, activism, bagapsh, asr,\n",
      "Nearest to most: pds, been, kampf, wgn, opec, canadians, ju, pigweed,\n",
      "Nearest to award: altogether, albans, judge, mediated, mayors, planetfall, resurgence, invites,\n",
      "Nearest to mainly: climbs, rebuilt, steep, gamma, chief, routine, caldwell, classifies,\n",
      "Nearest to instance: arrived, conservation, mackay, updating, hardship, dressers, curious, rectangular,\n",
      "Nearest to police: hitch, keitel, certain, populism, reed, anjou, kroeber, gladius,\n",
      "Nearest to assembly: determines, indirectly, masterplan, participates, amid, bend, transform, midland,\n",
      "Nearest to creation: over, amplitude, rpr, lists, rollin, lost, fox, geographically,\n",
      "Nearest to articles: listened, describing, double, poetry, childish, flanders, worldview, graphics,\n",
      "Nearest to event: corrections, propagates, stalin, isomers, mobster, usc, len, aki,\n",
      "Epoch 1/10 Iteration: 3100 Avg. Training loss: 4.7940 0.3757 sec/batch\n",
      "Epoch 1/10 Iteration: 3200 Avg. Training loss: 4.7642 0.3695 sec/batch\n",
      "Epoch 1/10 Iteration: 3300 Avg. Training loss: 4.6956 0.3679 sec/batch\n",
      "Epoch 1/10 Iteration: 3400 Avg. Training loss: 4.6947 0.3667 sec/batch\n",
      "Epoch 1/10 Iteration: 3500 Avg. Training loss: 4.7561 0.3753 sec/batch\n",
      "Epoch 1/10 Iteration: 3600 Avg. Training loss: 4.7111 0.3671 sec/batch\n",
      "Epoch 1/10 Iteration: 3700 Avg. Training loss: 4.7185 0.3681 sec/batch\n",
      "Epoch 1/10 Iteration: 3800 Avg. Training loss: 4.7280 0.3693 sec/batch\n",
      "Epoch 1/10 Iteration: 3900 Avg. Training loss: 4.6892 0.3689 sec/batch\n",
      "Epoch 1/10 Iteration: 4000 Avg. Training loss: 4.6503 0.3691 sec/batch\n",
      "Nearest to for: likeness, equipment, impress, tacitus, migr, descriptions, bragging, collection,\n",
      "Nearest to in: deutsch, ferns, thermodynamics, advanced, shares, productivity, roleplaying, priority,\n",
      "Nearest to than: atlantic, anemia, darwin, kassel, beyer, vacancy, meningitis, impermanence,\n",
      "Nearest to will: term, disapproving, gogo, wuhan, hodges, seek, businesswoman, contae,\n",
      "Nearest to between: lengthy, retailers, estrella, rights, sealed, huston, cubans, highest,\n",
      "Nearest to called: earle, role, treatments, guidebook, night, unfair, roddenberry, timed,\n",
      "Nearest to use: testers, campaigning, each, pioneers, asr, activism, offense, lille,\n",
      "Nearest to most: pds, wgn, kampf, been, opec, lap, pigweed, ju,\n",
      "Nearest to award: albans, altogether, judge, mediated, invites, champion, planetfall, belvedere,\n",
      "Nearest to mainly: climbs, gamma, rebuilt, steep, routine, caldwell, manipulating, classifies,\n",
      "Nearest to instance: arrived, mackay, updating, conservation, dressers, hardship, rectangular, curious,\n",
      "Nearest to police: hitch, kroeber, reed, gladius, populism, exacting, anjou, extermination,\n",
      "Nearest to assembly: determines, indirectly, amid, participates, masterplan, mormon, leaders, midland,\n",
      "Nearest to creation: over, rpr, amplitude, lists, fox, rollin, carriages, groupe,\n",
      "Nearest to articles: listened, childish, describing, premarital, inimical, poetry, double, flanders,\n",
      "Nearest to event: propagates, stalin, mobster, corrections, isomers, usc, wahhabis, materialist,\n"
     ]
    },
    {
     "name": "stdout",
     "output_type": "stream",
     "text": [
      "Epoch 1/10 Iteration: 4100 Avg. Training loss: 4.6672 0.3674 sec/batch\n",
      "Epoch 1/10 Iteration: 4200 Avg. Training loss: 4.6736 0.3845 sec/batch\n",
      "Epoch 1/10 Iteration: 4300 Avg. Training loss: 4.6129 0.3712 sec/batch\n",
      "Epoch 1/10 Iteration: 4400 Avg. Training loss: 4.6254 0.3735 sec/batch\n",
      "Epoch 1/10 Iteration: 4500 Avg. Training loss: 4.6290 0.3590 sec/batch\n",
      "Epoch 1/10 Iteration: 4600 Avg. Training loss: 4.6313 0.3757 sec/batch\n",
      "Epoch 2/10 Iteration: 4700 Avg. Training loss: 4.6059 0.2803 sec/batch\n",
      "Epoch 2/10 Iteration: 4800 Avg. Training loss: 4.5378 0.3185 sec/batch\n",
      "Epoch 2/10 Iteration: 4900 Avg. Training loss: 4.5049 0.3123 sec/batch\n",
      "Epoch 2/10 Iteration: 5000 Avg. Training loss: 4.5190 0.3102 sec/batch\n",
      "Nearest to for: equipment, likeness, migr, bragging, colourless, atwater, impress, tacitus,\n",
      "Nearest to in: ferns, deutsch, shares, thermodynamics, productivity, lifetime, advanced, megadeth,\n",
      "Nearest to than: kassel, atlantic, tops, darwin, impermanence, meningitis, trees, anemia,\n",
      "Nearest to will: term, disapproving, wuhan, gogo, moves, contae, peers, seek,\n",
      "Nearest to between: lengthy, estrella, cubans, huston, portnoy, retailers, northeastern, rights,\n",
      "Nearest to called: treatments, guidebook, role, earle, bohr, night, soloists, timed,\n",
      "Nearest to use: testers, each, campaigning, asr, pioneers, offense, outcomes, algol,\n",
      "Nearest to most: pds, wgn, been, kampf, lap, cnidaria, protections, opec,\n",
      "Nearest to award: albans, judge, belvedere, champion, dancer, altogether, beget, invites,\n",
      "Nearest to mainly: climbs, routine, steep, caldwell, manipulating, standout, classifies, rebuilt,\n",
      "Nearest to instance: mackay, updating, conservation, arrived, dressers, supersymmetry, hardship, rectangular,\n",
      "Nearest to police: hitch, anjou, kroeber, reed, gladius, moby, keitel, exacting,\n",
      "Nearest to assembly: determines, indirectly, parties, legislature, administrative, masterplan, leaders, presidencia,\n",
      "Nearest to creation: rpr, over, amplitude, pensacola, carriages, ailey, ziyad, lists,\n",
      "Nearest to articles: listened, inimical, childish, describing, premarital, poetry, hinterlands, double,\n",
      "Nearest to event: propagates, stalin, mobster, isomers, usc, corrections, coldness, crafoord,\n",
      "Epoch 2/10 Iteration: 5100 Avg. Training loss: 4.5130 0.3175 sec/batch\n",
      "Epoch 2/10 Iteration: 5200 Avg. Training loss: 4.5023 0.3079 sec/batch\n",
      "Epoch 2/10 Iteration: 5300 Avg. Training loss: 4.4476 0.3107 sec/batch\n",
      "Epoch 2/10 Iteration: 5400 Avg. Training loss: 4.5087 0.3187 sec/batch\n",
      "Epoch 2/10 Iteration: 5500 Avg. Training loss: 4.4926 0.3661 sec/batch\n",
      "Epoch 2/10 Iteration: 5600 Avg. Training loss: 4.4861 0.3667 sec/batch\n",
      "Epoch 2/10 Iteration: 5700 Avg. Training loss: 4.4703 0.3234 sec/batch\n",
      "Epoch 2/10 Iteration: 5800 Avg. Training loss: 4.4104 0.3211 sec/batch\n",
      "Epoch 2/10 Iteration: 5900 Avg. Training loss: 4.4256 0.3604 sec/batch\n",
      "Epoch 2/10 Iteration: 6000 Avg. Training loss: 4.4207 0.3871 sec/batch\n",
      "Nearest to for: equipment, migr, colourless, likeness, bragging, atwater, tacitus, impress,\n",
      "Nearest to in: deutsch, ferns, thermodynamics, cornish, lifetime, cod, priority, disenfranchised,\n",
      "Nearest to than: tops, trees, anemia, kassel, impermanence, vacancy, atlantic, meningitis,\n",
      "Nearest to will: term, disapproving, wuhan, peers, seek, moves, upon, gogo,\n",
      "Nearest to between: lengthy, cubans, estrella, northeastern, retailers, cedi, rights, portnoy,\n",
      "Nearest to called: guidebook, treatments, bohr, role, grandma, night, refreshed, soloists,\n",
      "Nearest to use: testers, each, asr, campaigning, useful, pioneers, algol, judaizers,\n",
      "Nearest to most: wgn, pds, been, kampf, slumber, pigweed, cnidaria, lap,\n",
      "Nearest to award: albans, champion, belvedere, hit, dancer, judge, commentator, beget,\n",
      "Nearest to mainly: climbs, steep, caldwell, rebuilt, porky, routine, standout, stockade,\n",
      "Nearest to instance: updating, mackay, dressers, supersymmetry, conservation, rectangular, saale, given,\n",
      "Nearest to police: hitch, anjou, kroeber, gladius, keitel, igg, exacting, reed,\n",
      "Nearest to assembly: legislature, parties, indirectly, determines, leaders, participates, legislative, administrative,\n",
      "Nearest to creation: rpr, over, pensacola, ailey, ziyad, amplitude, carriages, interleaving,\n",
      "Nearest to articles: listened, inimical, premarital, childish, describing, hinterlands, poetry, flanders,\n",
      "Nearest to event: mobster, propagates, isomers, stalin, crafoord, usc, corrections, coldness,\n",
      "Epoch 2/10 Iteration: 6100 Avg. Training loss: 4.4297 0.3410 sec/batch\n",
      "Epoch 2/10 Iteration: 6200 Avg. Training loss: 4.3989 0.3338 sec/batch\n",
      "Epoch 2/10 Iteration: 6300 Avg. Training loss: 4.4609 0.3419 sec/batch\n",
      "Epoch 2/10 Iteration: 6400 Avg. Training loss: 4.3775 0.3589 sec/batch\n",
      "Epoch 2/10 Iteration: 6500 Avg. Training loss: 4.4309 0.3885 sec/batch\n",
      "Epoch 2/10 Iteration: 6600 Avg. Training loss: 4.4514 0.3863 sec/batch\n",
      "Epoch 2/10 Iteration: 6700 Avg. Training loss: 4.3618 0.3341 sec/batch\n",
      "Epoch 2/10 Iteration: 6800 Avg. Training loss: 4.3884 0.3174 sec/batch\n",
      "Epoch 2/10 Iteration: 6900 Avg. Training loss: 4.3978 0.3079 sec/batch\n",
      "Epoch 2/10 Iteration: 7000 Avg. Training loss: 4.3981 0.3087 sec/batch\n",
      "Nearest to for: likeness, migr, equipment, bragging, collection, colourless, atwater, tacitus,\n",
      "Nearest to in: deutsch, lifetime, cornish, ferns, thermodynamics, cod, productivity, determinants,\n",
      "Nearest to than: tops, anemia, trees, impermanence, beyer, kassel, but, meningitis,\n",
      "Nearest to will: term, disapproving, gogo, contae, wuhan, moves, upon, peers,\n",
      "Nearest to between: lengthy, cubans, estrella, rights, portnoy, northeastern, implant, sealed,\n",
      "Nearest to called: guidebook, bohr, grandma, treatments, refreshed, night, role, unveils,\n",
      "Nearest to use: testers, asr, each, campaigning, useful, callers, algol, pioneers,\n",
      "Nearest to most: wgn, pds, been, cnidaria, pigweed, slumber, opec, protections,\n",
      "Nearest to award: albans, dancer, hit, belvedere, champion, oscar, jeff, best,\n",
      "Nearest to mainly: climbs, steep, penang, caldwell, bolsheviks, exporting, rebuilt, standout,\n",
      "Nearest to instance: updating, saale, conservation, supersymmetry, dressers, mackay, rectangular, given,\n",
      "Nearest to police: hitch, anjou, extermination, igg, exacting, kroeber, keitel, gladius,\n",
      "Nearest to assembly: legislature, parties, legislative, administrative, indirectly, elected, determines, leaders,\n",
      "Nearest to creation: rpr, ziyad, ailey, over, lists, pensacola, etymologically, interleaving,\n",
      "Nearest to articles: listened, inimical, premarital, describing, poetry, definiteness, childish, hinterlands,\n",
      "Nearest to event: propagates, isomers, crafoord, corrections, usc, coldness, mobster, warms,\n",
      "Epoch 2/10 Iteration: 7100 Avg. Training loss: 4.3948 0.3176 sec/batch\n",
      "Epoch 2/10 Iteration: 7200 Avg. Training loss: 4.3889 0.3127 sec/batch\n",
      "Epoch 2/10 Iteration: 7300 Avg. Training loss: 4.3612 0.3283 sec/batch\n",
      "Epoch 2/10 Iteration: 7400 Avg. Training loss: 4.3732 0.3524 sec/batch\n",
      "Epoch 2/10 Iteration: 7500 Avg. Training loss: 4.3929 0.3229 sec/batch\n",
      "Epoch 2/10 Iteration: 7600 Avg. Training loss: 4.3815 0.3094 sec/batch\n",
      "Epoch 2/10 Iteration: 7700 Avg. Training loss: 4.3876 0.3223 sec/batch\n",
      "Epoch 2/10 Iteration: 7800 Avg. Training loss: 4.3657 0.3288 sec/batch\n",
      "Epoch 2/10 Iteration: 7900 Avg. Training loss: 4.3385 0.3131 sec/batch\n",
      "Epoch 2/10 Iteration: 8000 Avg. Training loss: 4.3509 0.3206 sec/batch\n",
      "Nearest to for: likeness, equipment, bragging, collection, migr, descriptions, free, focuses,\n",
      "Nearest to in: deutsch, cornish, lifetime, ferns, priority, brisk, productivity, with,\n",
      "Nearest to than: tops, anemia, trees, culottes, kassel, but, at, hellmuth,\n",
      "Nearest to will: term, gogo, wuhan, disapproving, contae, moves, insulating, peers,\n",
      "Nearest to between: lengthy, estrella, cubans, nnp, annoyed, portnoy, northeastern, demolished,\n",
      "Nearest to called: guidebook, bohr, grandma, treatments, unveils, role, night, soloists,\n",
      "Nearest to use: testers, campaigning, asr, callers, each, algol, useful, bsd,\n",
      "Nearest to most: wgn, been, pds, cnidaria, protections, retroactive, slumber, punjab,\n",
      "Nearest to award: oscar, hit, albans, dancer, best, belvedere, awards, oratorio,\n",
      "Nearest to mainly: climbs, penang, steep, exporting, porky, stockade, standout, abdallah,\n",
      "Nearest to instance: updating, saale, conservation, supersymmetry, dressers, naive, given, mackay,\n",
      "Nearest to police: hitch, extermination, anjou, igg, exacting, gladius, moby, ediacara,\n",
      "Nearest to assembly: legislature, parties, indirectly, legislative, administrative, monarchy, unicameral, elected,\n",
      "Nearest to creation: rpr, ziyad, ailey, lists, over, pagan, etymologically, pensacola,\n",
      "Nearest to articles: inimical, listened, hinterlands, premarital, poetry, definiteness, playboy, describing,\n",
      "Nearest to event: propagates, isomers, crafoord, corrections, warms, usc, castigated, mobster,\n"
     ]
    },
    {
     "name": "stdout",
     "output_type": "stream",
     "text": [
      "Epoch 2/10 Iteration: 8100 Avg. Training loss: 4.3487 0.3406 sec/batch\n",
      "Epoch 2/10 Iteration: 8200 Avg. Training loss: 4.2880 0.3221 sec/batch\n",
      "Epoch 2/10 Iteration: 8300 Avg. Training loss: 4.3877 0.3284 sec/batch\n",
      "Epoch 2/10 Iteration: 8400 Avg. Training loss: 4.3780 0.3936 sec/batch\n",
      "Epoch 2/10 Iteration: 8500 Avg. Training loss: 4.3784 0.3085 sec/batch\n",
      "Epoch 2/10 Iteration: 8600 Avg. Training loss: 4.2988 0.3303 sec/batch\n",
      "Epoch 2/10 Iteration: 8700 Avg. Training loss: 4.3113 0.3185 sec/batch\n",
      "Epoch 2/10 Iteration: 8800 Avg. Training loss: 4.3369 0.3149 sec/batch\n",
      "Epoch 2/10 Iteration: 8900 Avg. Training loss: 4.2251 0.3090 sec/batch\n",
      "Epoch 2/10 Iteration: 9000 Avg. Training loss: 4.2791 0.3329 sec/batch\n",
      "Nearest to for: equipment, bragging, likeness, roasting, collection, colourless, focuses, bedding,\n",
      "Nearest to in: deutsch, cornish, lifetime, brisk, ferns, priority, rzburg, with,\n",
      "Nearest to than: tops, trees, anemia, culottes, parity, kassel, studded, vacancy,\n",
      "Nearest to will: gogo, term, disapproving, contae, peers, insulating, moves, wuhan,\n",
      "Nearest to between: estrella, cubans, nnp, lengthy, portnoy, border, northeastern, demolished,\n",
      "Nearest to called: guidebook, grandma, bohr, unveils, soloists, night, calorie, represents,\n",
      "Nearest to use: testers, asr, campaigning, algol, callers, bsd, jazeera, diphthong,\n",
      "Nearest to most: wgn, been, cnidaria, pds, retroactive, slumber, commonwealth, jolt,\n",
      "Nearest to award: oscar, best, awards, albans, nite, hit, dancer, belvedere,\n",
      "Nearest to mainly: climbs, penang, exporting, porky, steep, abdallah, wmo, stockade,\n",
      "Nearest to instance: conservation, saale, updating, dressers, supersymmetry, dance, naive, mackay,\n",
      "Nearest to police: hitch, extermination, exacting, igg, anjou, ediacara, defile, overproduction,\n",
      "Nearest to assembly: legislature, parties, indirectly, legislative, unicameral, administrative, elected, monarchy,\n",
      "Nearest to creation: rpr, ziyad, carriages, lists, ailey, pensacola, ahimsa, seduction,\n",
      "Nearest to articles: inimical, listened, hinterlands, definiteness, premarital, describing, childish, poetry,\n",
      "Nearest to event: propagates, mobster, furioso, crafoord, isomers, usc, castigated, corrections,\n",
      "Epoch 2/10 Iteration: 9100 Avg. Training loss: 4.3114 0.3877 sec/batch\n",
      "Epoch 2/10 Iteration: 9200 Avg. Training loss: 4.2769 0.3268 sec/batch\n",
      "Epoch 3/10 Iteration: 9300 Avg. Training loss: 4.3363 0.1864 sec/batch\n",
      "Epoch 3/10 Iteration: 9400 Avg. Training loss: 4.2700 0.4436 sec/batch\n",
      "Epoch 3/10 Iteration: 9500 Avg. Training loss: 4.2249 0.4149 sec/batch\n",
      "Epoch 3/10 Iteration: 9600 Avg. Training loss: 4.2283 0.4157 sec/batch\n",
      "Epoch 3/10 Iteration: 9700 Avg. Training loss: 4.2329 0.4080 sec/batch\n",
      "Epoch 3/10 Iteration: 9800 Avg. Training loss: 4.2363 0.3642 sec/batch\n",
      "Epoch 3/10 Iteration: 9900 Avg. Training loss: 4.2020 0.3292 sec/batch\n",
      "Epoch 3/10 Iteration: 10000 Avg. Training loss: 4.1770 0.3168 sec/batch\n",
      "Nearest to for: bragging, equipment, roasting, likeness, colourless, focuses, migr, bedding,\n",
      "Nearest to in: deutsch, ferns, cornish, lifetime, with, and, cod, brisk,\n",
      "Nearest to than: tops, trees, culottes, but, kassel, anemia, studded, vacancy,\n",
      "Nearest to will: gogo, contae, term, disapproving, peers, wuhan, subphylum, comfortably,\n",
      "Nearest to between: estrella, cubans, nnp, lengthy, northeastern, demolished, border, reacquired,\n",
      "Nearest to called: bohr, grandma, guidebook, unveils, soloists, night, represents, alters,\n",
      "Nearest to use: testers, asr, campaigning, algol, diphthong, judaizers, callers, bsd,\n",
      "Nearest to most: wgn, been, pds, fulani, retroactive, commonwealth, faults, punjab,\n",
      "Nearest to award: awards, best, oscar, winners, nite, awarded, albans, belvedere,\n",
      "Nearest to mainly: climbs, penang, exporting, steep, stockade, wmo, porky, malta,\n",
      "Nearest to instance: dressers, updating, arrived, conservation, saale, questioner, curious, naive,\n",
      "Nearest to police: hitch, extermination, igg, keitel, exacting, ediacara, exhibitionism, fund,\n",
      "Nearest to assembly: legislature, indirectly, determines, unicameral, legislative, parties, elected, administrative,\n",
      "Nearest to creation: ziyad, lists, carriages, rpr, ahimsa, interleaving, firma, etymologically,\n",
      "Nearest to articles: inimical, listened, hinterlands, premarital, definiteness, describing, childish, poetry,\n",
      "Nearest to event: propagates, castigated, furioso, isomers, mobster, crafoord, stalin, seeing,\n",
      "Epoch 3/10 Iteration: 10100 Avg. Training loss: 4.2450 0.3692 sec/batch\n",
      "Epoch 3/10 Iteration: 10200 Avg. Training loss: 4.2406 0.3543 sec/batch\n",
      "Epoch 3/10 Iteration: 10300 Avg. Training loss: 4.2286 0.3830 sec/batch\n",
      "Epoch 3/10 Iteration: 10400 Avg. Training loss: 4.1231 0.4477 sec/batch\n",
      "Epoch 3/10 Iteration: 10500 Avg. Training loss: 4.1520 0.3887 sec/batch\n",
      "Epoch 3/10 Iteration: 10600 Avg. Training loss: 4.1693 0.3766 sec/batch\n",
      "Epoch 3/10 Iteration: 10700 Avg. Training loss: 4.1880 0.3653 sec/batch\n",
      "Epoch 3/10 Iteration: 10800 Avg. Training loss: 4.1712 0.3712 sec/batch\n",
      "Epoch 3/10 Iteration: 10900 Avg. Training loss: 4.1982 0.3676 sec/batch\n",
      "Epoch 3/10 Iteration: 11000 Avg. Training loss: 4.1781 0.3641 sec/batch\n",
      "Nearest to for: roasting, equipment, bragging, likeness, tacitus, compares, colourless, migr,\n",
      "Nearest to in: lifetime, deutsch, ferns, cornish, determinants, with, cod, and,\n",
      "Nearest to than: tops, but, culottes, anemia, trees, parity, studded, vacancy,\n",
      "Nearest to will: gogo, contae, moves, do, disapproving, subphylum, wrapped, comfortably,\n",
      "Nearest to between: estrella, nnp, cubans, zh, northeastern, portnoy, dimensionality, lengthy,\n",
      "Nearest to called: guidebook, grandma, bohr, unveils, tourists, night, represents, soloists,\n",
      "Nearest to use: testers, asr, algol, campaigning, judaizers, diphthong, useful, callers,\n",
      "Nearest to most: wgn, pds, cnidaria, slumber, bartle, been, porting, faults,\n",
      "Nearest to award: winners, awards, awarded, best, nite, oscar, albans, rbi,\n",
      "Nearest to mainly: penang, climbs, exporting, wmo, porky, abdallah, stockade, classifies,\n",
      "Nearest to instance: updating, given, questioner, supersymmetry, dressers, saale, naive, imply,\n",
      "Nearest to police: hitch, extermination, igg, exacting, ediacara, keitel, disarray, rollo,\n",
      "Nearest to assembly: legislature, indirectly, legislative, determines, parties, unicameral, elected, unconstitutional,\n",
      "Nearest to creation: lists, interleaving, ziyad, ahimsa, discern, linji, firma, etymologically,\n",
      "Nearest to articles: inimical, listened, describing, definiteness, premarital, hinterlands, poetry, online,\n",
      "Nearest to event: isomers, propagates, corrections, castigated, crafoord, warms, furioso, seeing,\n",
      "Epoch 3/10 Iteration: 11100 Avg. Training loss: 4.1637 0.3742 sec/batch\n",
      "Epoch 3/10 Iteration: 11200 Avg. Training loss: 4.2184 0.3668 sec/batch\n",
      "Epoch 3/10 Iteration: 11300 Avg. Training loss: 4.1652 0.3865 sec/batch\n",
      "Epoch 3/10 Iteration: 11400 Avg. Training loss: 4.1413 0.3909 sec/batch\n",
      "Epoch 3/10 Iteration: 11500 Avg. Training loss: 4.1697 0.4006 sec/batch\n",
      "Epoch 3/10 Iteration: 11600 Avg. Training loss: 4.1755 0.3894 sec/batch\n",
      "Epoch 3/10 Iteration: 11700 Avg. Training loss: 4.1981 0.3797 sec/batch\n",
      "Epoch 3/10 Iteration: 11800 Avg. Training loss: 4.1789 0.3702 sec/batch\n",
      "Epoch 3/10 Iteration: 11900 Avg. Training loss: 4.1413 0.3746 sec/batch\n",
      "Epoch 3/10 Iteration: 12000 Avg. Training loss: 4.1628 0.3803 sec/batch\n",
      "Nearest to for: roasting, bragging, equipment, likeness, free, tacitus, compares, botany,\n",
      "Nearest to in: deutsch, lifetime, with, cornish, determinants, and, partakers, brisk,\n",
      "Nearest to than: tops, but, culottes, studded, vacancy, anemia, parity, trees,\n",
      "Nearest to will: contae, gogo, moves, subphylum, comfortably, node, disapproving, take,\n",
      "Nearest to between: estrella, lengthy, dimensionality, demolished, nnp, zh, portnoy, cubans,\n",
      "Nearest to called: guidebook, bohr, grandma, represents, night, unveils, soloists, tourists,\n",
      "Nearest to use: testers, asr, algol, avionics, campaigning, judaizers, diphthong, useful,\n",
      "Nearest to most: wgn, bartle, slumber, pds, lots, cnidaria, fulani, faults,\n",
      "Nearest to award: awards, awarded, oscar, best, albans, winners, rbi, belvedere,\n",
      "Nearest to mainly: penang, exporting, climbs, abdallah, caldwell, wmo, classifies, stockade,\n",
      "Nearest to instance: updating, supersymmetry, arrived, saale, questioner, dressers, imply, curious,\n",
      "Nearest to police: hitch, extermination, igg, keitel, exacting, ediacara, anjou, gladius,\n",
      "Nearest to assembly: indirectly, determines, legislature, unicameral, parties, legislative, unconstitutional, elected,\n",
      "Nearest to creation: lists, ahimsa, pedagogy, linji, rpr, interleaving, firma, ziyad,\n",
      "Nearest to articles: inimical, definiteness, online, describing, listened, hinterlands, premarital, graphics,\n",
      "Nearest to event: isomers, propagates, corrections, castigated, warms, crafoord, seeing, furioso,\n"
     ]
    },
    {
     "name": "stdout",
     "output_type": "stream",
     "text": [
      "Epoch 3/10 Iteration: 12100 Avg. Training loss: 4.2064 0.3768 sec/batch\n",
      "Epoch 3/10 Iteration: 12200 Avg. Training loss: 4.1696 0.3723 sec/batch\n",
      "Epoch 3/10 Iteration: 12300 Avg. Training loss: 4.1892 0.3693 sec/batch\n",
      "Epoch 3/10 Iteration: 12400 Avg. Training loss: 4.1594 0.3780 sec/batch\n",
      "Epoch 3/10 Iteration: 12500 Avg. Training loss: 4.1547 0.3724 sec/batch\n",
      "Epoch 3/10 Iteration: 12600 Avg. Training loss: 4.0995 0.3681 sec/batch\n",
      "Epoch 3/10 Iteration: 12700 Avg. Training loss: 4.1781 0.3751 sec/batch\n",
      "Epoch 3/10 Iteration: 12800 Avg. Training loss: 4.1523 0.3722 sec/batch\n",
      "Epoch 3/10 Iteration: 12900 Avg. Training loss: 4.1715 0.3894 sec/batch\n",
      "Epoch 3/10 Iteration: 13000 Avg. Training loss: 4.1924 0.3904 sec/batch\n",
      "Nearest to for: roasting, bragging, likeness, tacitus, migr, shikai, galactica, uganda,\n",
      "Nearest to in: lifetime, deutsch, with, cornish, and, brisk, indicts, cod,\n",
      "Nearest to than: tops, culottes, but, vacancy, hellmuth, parity, anemia, studded,\n",
      "Nearest to will: gogo, contae, subphylum, moves, do, disapproving, comfortably, take,\n",
      "Nearest to between: estrella, nnp, cubans, rights, border, lengthy, demolished, sitka,\n",
      "Nearest to called: guidebook, grandma, bohr, night, represents, unveils, tourists, earle,\n",
      "Nearest to use: testers, asr, campaigning, algol, avionics, diphthong, rebate, cheaper,\n",
      "Nearest to most: wgn, punjab, bartle, fulani, pds, slumber, commonwealth, buckler,\n",
      "Nearest to award: awards, awarded, oscar, best, winners, prizes, sportspeople, rbi,\n",
      "Nearest to mainly: penang, climbs, abdallah, exporting, wmo, caldwell, classifies, stockade,\n",
      "Nearest to instance: updating, supersymmetry, saale, arrived, naive, curious, dressers, imply,\n",
      "Nearest to police: hitch, extermination, committed, igg, ediacara, keitel, gladius, anjou,\n",
      "Nearest to assembly: indirectly, determines, legislature, unicameral, legislative, parties, unconstitutional, presidencia,\n",
      "Nearest to creation: lists, rpr, ahimsa, ziyad, pedagogy, interleaving, firma, linji,\n",
      "Nearest to articles: inimical, definiteness, hinterlands, online, describing, listened, premarital, gretchen,\n",
      "Nearest to event: isomers, propagates, corrections, castigated, furioso, crafoord, mobster, gerardo,\n",
      "Epoch 3/10 Iteration: 13100 Avg. Training loss: 4.2266 0.3521 sec/batch\n",
      "Epoch 3/10 Iteration: 13200 Avg. Training loss: 4.1545 0.3667 sec/batch\n",
      "Epoch 3/10 Iteration: 13300 Avg. Training loss: 4.1232 0.3202 sec/batch\n",
      "Epoch 3/10 Iteration: 13400 Avg. Training loss: 4.1550 5.9543 sec/batch\n",
      "Epoch 3/10 Iteration: 13500 Avg. Training loss: 4.0498 11.4846 sec/batch\n",
      "Epoch 3/10 Iteration: 13600 Avg. Training loss: 4.1550 5.6109 sec/batch\n",
      "Epoch 3/10 Iteration: 13700 Avg. Training loss: 4.1187 0.3529 sec/batch\n",
      "Epoch 3/10 Iteration: 13800 Avg. Training loss: 4.1443 0.3782 sec/batch\n",
      "Epoch 4/10 Iteration: 13900 Avg. Training loss: 4.1813 0.0630 sec/batch\n",
      "Epoch 4/10 Iteration: 14000 Avg. Training loss: 4.1216 0.3547 sec/batch\n",
      "Nearest to for: roasting, bragging, equipment, a, free, compares, vf, likeness,\n",
      "Nearest to in: with, brisk, lifetime, and, deutsch, determinants, lithuanians, walled,\n",
      "Nearest to than: tops, but, parity, vacancy, anemia, capita, culottes, trees,\n",
      "Nearest to will: gogo, contae, subphylum, disapproving, do, moves, comfortably, stickers,\n",
      "Nearest to between: estrella, cubans, lengthy, nnp, demolished, rights, northeastern, border,\n",
      "Nearest to called: guidebook, night, grandma, bohr, represents, unveils, tourists, mare,\n",
      "Nearest to use: testers, asr, campaigning, avionics, algol, directness, strengths, jazeera,\n",
      "Nearest to most: wgn, bartle, commonwealth, been, martinez, landform, faults, slumber,\n",
      "Nearest to award: awards, awarded, best, oscar, winners, prizes, nominated, sportspeople,\n",
      "Nearest to mainly: penang, climbs, exporting, abdallah, classifies, wmo, neighbouring, stockade,\n",
      "Nearest to instance: arrived, questioner, imply, conservation, dressers, saale, given, curious,\n",
      "Nearest to police: hitch, extermination, keitel, committed, igg, ediacara, punishment, alleged,\n",
      "Nearest to assembly: indirectly, unicameral, legislature, determines, legislative, presidencia, parties, elected,\n",
      "Nearest to creation: interleaving, lists, linji, ahimsa, pedagogy, incremental, smtp, ziyad,\n",
      "Nearest to articles: inimical, describing, hinterlands, definiteness, listened, online, encarta, premarital,\n",
      "Nearest to event: isomers, propagates, castigated, corrections, mobster, seeing, furioso, abhidharma,\n"
     ]
    },
    {
     "name": "stderr",
     "output_type": "stream",
     "text": [
      "ERROR:root:Internal Python error in the inspect module.\n",
      "Below is the traceback from this internal error.\n",
      "\n"
     ]
    },
    {
     "name": "stdout",
     "output_type": "stream",
     "text": [
      "Traceback (most recent call last):\n",
      "  File \"/Users/akshay/anaconda3/lib/python3.6/site-packages/IPython/core/interactiveshell.py\", line 2862, in run_code\n",
      "    exec(code_obj, self.user_global_ns, self.user_ns)\n",
      "  File \"<ipython-input-23-9312da202e8d>\", line 20, in <module>\n",
      "    train_loss, _ = sess.run([cost, optimizer], feed_dict=feed)\n",
      "  File \"/Users/akshay/anaconda3/lib/python3.6/site-packages/tensorflow/python/client/session.py\", line 889, in run\n",
      "    run_metadata_ptr)\n",
      "  File \"/Users/akshay/anaconda3/lib/python3.6/site-packages/tensorflow/python/client/session.py\", line 1120, in _run\n",
      "    feed_dict_tensor, options, run_metadata)\n",
      "  File \"/Users/akshay/anaconda3/lib/python3.6/site-packages/tensorflow/python/client/session.py\", line 1317, in _do_run\n",
      "    options, run_metadata)\n",
      "  File \"/Users/akshay/anaconda3/lib/python3.6/site-packages/tensorflow/python/client/session.py\", line 1323, in _do_call\n",
      "    return fn(*args)\n",
      "  File \"/Users/akshay/anaconda3/lib/python3.6/site-packages/tensorflow/python/client/session.py\", line 1302, in _run_fn\n",
      "    status, run_metadata)\n",
      "KeyboardInterrupt\n",
      "\n",
      "During handling of the above exception, another exception occurred:\n",
      "\n",
      "Traceback (most recent call last):\n"
     ]
    },
    {
     "name": "stderr",
     "output_type": "stream",
     "text": [
      "\n",
      "KeyboardInterrupt\n",
      "\n",
      "ERROR:tornado.general:Uncaught exception, closing connection.\n",
      "Traceback (most recent call last):\n",
      "  File \"/Users/akshay/anaconda3/lib/python3.6/site-packages/zmq/eventloop/zmqstream.py\", line 414, in _run_callback\n",
      "    callback(*args, **kwargs)\n",
      "  File \"/Users/akshay/anaconda3/lib/python3.6/site-packages/tornado/stack_context.py\", line 277, in null_wrapper\n",
      "    return fn(*args, **kwargs)\n",
      "  File \"/Users/akshay/anaconda3/lib/python3.6/site-packages/ipykernel/kernelbase.py\", line 283, in dispatcher\n",
      "    return self.dispatch_shell(stream, msg)\n",
      "  File \"/Users/akshay/anaconda3/lib/python3.6/site-packages/ipykernel/kernelbase.py\", line 235, in dispatch_shell\n",
      "    handler(stream, idents, msg)\n",
      "  File \"/Users/akshay/anaconda3/lib/python3.6/site-packages/ipykernel/kernelbase.py\", line 402, in execute_request\n",
      "    sys.stdout.flush()\n",
      "  File \"/Users/akshay/anaconda3/lib/python3.6/site-packages/ipykernel/iostream.py\", line 321, in flush\n",
      "    evt.wait()\n",
      "  File \"/Users/akshay/anaconda3/lib/python3.6/threading.py\", line 551, in wait\n",
      "    signaled = self._cond.wait(timeout)\n",
      "  File \"/Users/akshay/anaconda3/lib/python3.6/threading.py\", line 295, in wait\n",
      "    waiter.acquire()\n",
      "KeyboardInterrupt\n",
      "ERROR:tornado.general:Uncaught exception, closing connection.\n",
      "Traceback (most recent call last):\n",
      "  File \"/Users/akshay/anaconda3/lib/python3.6/site-packages/zmq/eventloop/zmqstream.py\", line 440, in _handle_events\n",
      "    self._handle_recv()\n",
      "  File \"/Users/akshay/anaconda3/lib/python3.6/site-packages/zmq/eventloop/zmqstream.py\", line 472, in _handle_recv\n",
      "    self._run_callback(callback, msg)\n",
      "  File \"/Users/akshay/anaconda3/lib/python3.6/site-packages/zmq/eventloop/zmqstream.py\", line 414, in _run_callback\n",
      "    callback(*args, **kwargs)\n",
      "  File \"/Users/akshay/anaconda3/lib/python3.6/site-packages/tornado/stack_context.py\", line 277, in null_wrapper\n",
      "    return fn(*args, **kwargs)\n",
      "  File \"/Users/akshay/anaconda3/lib/python3.6/site-packages/ipykernel/kernelbase.py\", line 283, in dispatcher\n",
      "    return self.dispatch_shell(stream, msg)\n",
      "  File \"/Users/akshay/anaconda3/lib/python3.6/site-packages/ipykernel/kernelbase.py\", line 235, in dispatch_shell\n",
      "    handler(stream, idents, msg)\n",
      "  File \"/Users/akshay/anaconda3/lib/python3.6/site-packages/ipykernel/kernelbase.py\", line 402, in execute_request\n",
      "    sys.stdout.flush()\n",
      "  File \"/Users/akshay/anaconda3/lib/python3.6/site-packages/ipykernel/iostream.py\", line 321, in flush\n",
      "    evt.wait()\n",
      "  File \"/Users/akshay/anaconda3/lib/python3.6/threading.py\", line 551, in wait\n",
      "    signaled = self._cond.wait(timeout)\n",
      "  File \"/Users/akshay/anaconda3/lib/python3.6/threading.py\", line 295, in wait\n",
      "    waiter.acquire()\n",
      "KeyboardInterrupt\n"
     ]
    }
   ],
   "source": [
    "epochs = 10\n",
    "batch_size = 1000\n",
    "window_size = 10\n",
    "\n",
    "with train_graph.as_default():\n",
    "    saver = tf.train.Saver()\n",
    "\n",
    "with tf.Session(graph=train_graph) as sess:\n",
    "    iteration = 1\n",
    "    loss = 0\n",
    "    sess.run(tf.global_variables_initializer())\n",
    "\n",
    "    for e in range(1, epochs+1):\n",
    "        batches = get_batches(train_words, batch_size, window_size)\n",
    "        start = time.time()\n",
    "        for x, y in batches:\n",
    "            \n",
    "            feed = {inputs: x,\n",
    "                    labels: np.array(y)[:, None]}\n",
    "            train_loss, _ = sess.run([cost, optimizer], feed_dict=feed)\n",
    "            \n",
    "            loss += train_loss\n",
    "            \n",
    "            if iteration % 100 == 0: \n",
    "                end = time.time()\n",
    "                print(\"Epoch {}/{}\".format(e, epochs),\n",
    "                      \"Iteration: {}\".format(iteration),\n",
    "                      \"Avg. Training loss: {:.4f}\".format(loss/100),\n",
    "                      \"{:.4f} sec/batch\".format((end-start)/100))\n",
    "                loss = 0\n",
    "                start = time.time()\n",
    "            \n",
    "            if iteration % 1000 == 0:\n",
    "                # note that this is expensive (~20% slowdown if computed every 500 steps)\n",
    "                sim = similarity.eval()\n",
    "                for i in range(valid_size):\n",
    "                    valid_word = int_to_vocab[valid_examples[i]]\n",
    "                    top_k = 8 # number of nearest neighbors\n",
    "                    nearest = (-sim[i, :]).argsort()[1:top_k+1]\n",
    "                    log = 'Nearest to %s:' % valid_word\n",
    "                    for k in range(top_k):\n",
    "                        close_word = int_to_vocab[nearest[k]]\n",
    "                        log = '%s %s,' % (log, close_word)\n",
    "                    print(log)\n",
    "            \n",
    "            iteration += 1\n",
    "    save_path = saver.save(sess, \"checkpoints/text8.ckpt\")\n",
    "    embed_mat = sess.run(normalized_embedding)"
   ]
  },
  {
   "cell_type": "markdown",
   "metadata": {},
   "source": [
    "Restore the trained network if you need to:"
   ]
  },
  {
   "cell_type": "code",
   "execution_count": null,
   "metadata": {
    "collapsed": true
   },
   "outputs": [],
   "source": [
    "with train_graph.as_default():\n",
    "    saver = tf.train.Saver()\n",
    "\n",
    "with tf.Session(graph=train_graph) as sess:\n",
    "    saver.restore(sess, tf.train.latest_checkpoint('checkpoints'))\n",
    "    embed_mat = sess.run(embedding)"
   ]
  },
  {
   "cell_type": "markdown",
   "metadata": {},
   "source": [
    "## Visualizing the word vectors\n",
    "\n",
    "Below we'll use T-SNE to visualize how our high-dimensional word vectors cluster together. T-SNE is used to project these vectors into two dimensions while preserving local stucture. Check out [this post from Christopher Olah](http://colah.github.io/posts/2014-10-Visualizing-MNIST/) to learn more about T-SNE and other ways to visualize high-dimensional data."
   ]
  },
  {
   "cell_type": "code",
   "execution_count": null,
   "metadata": {
    "collapsed": true
   },
   "outputs": [],
   "source": [
    "%matplotlib inline\n",
    "%config InlineBackend.figure_format = 'retina'\n",
    "\n",
    "import matplotlib.pyplot as plt\n",
    "from sklearn.manifold import TSNE"
   ]
  },
  {
   "cell_type": "code",
   "execution_count": null,
   "metadata": {
    "collapsed": true
   },
   "outputs": [],
   "source": [
    "viz_words = 500\n",
    "tsne = TSNE()\n",
    "embed_tsne = tsne.fit_transform(embed_mat[:viz_words, :])"
   ]
  },
  {
   "cell_type": "code",
   "execution_count": null,
   "metadata": {},
   "outputs": [],
   "source": [
    "fig, ax = plt.subplots(figsize=(14, 14))\n",
    "for idx in range(viz_words):\n",
    "    plt.scatter(*embed_tsne[idx, :], color='steelblue')\n",
    "    plt.annotate(int_to_vocab[idx], (embed_tsne[idx, 0], embed_tsne[idx, 1]), alpha=0.7)"
   ]
  },
  {
   "cell_type": "code",
   "execution_count": 5,
   "metadata": {},
   "outputs": [],
   "source": [
    "from numpy import array\n",
    "from keras.preprocessing.text import one_hot\n",
    "from keras.preprocessing.sequence import pad_sequences\n",
    "from keras.models import Sequential\n",
    "from keras.layers import Dense\n",
    "from keras.layers import Flatten\n",
    "from keras.layers.embeddings import Embedding\n",
    "docs = ['Well done!',\n",
    "\t\t'Good work',\n",
    "\t\t'Great effort',\n",
    "\t\t'nice work',\n",
    "\t\t'Excellent!',\n",
    "\t\t'Weak',\n",
    "\t\t'Poor effort!',\n",
    "\t\t'not good',\n",
    "\t\t'poor work',\n",
    "\t\t'Could have done better.']\n",
    "# define class labels\n",
    "labels = array([1,1,1,1,1,0,0,0,0,0])"
   ]
  },
  {
   "cell_type": "code",
   "execution_count": 6,
   "metadata": {},
   "outputs": [
    {
     "name": "stdout",
     "output_type": "stream",
     "text": [
      "[[40, 14], [5, 24], [3, 9], [17, 24], [7], [27], [11, 9], [15, 5], [11, 24], [36, 24, 14, 3]]\n"
     ]
    }
   ],
   "source": [
    "# integer encode the documents\n",
    "vocab_size = 50\n",
    "encoded_docs = [one_hot(d, vocab_size) for d in docs]\n",
    "print(encoded_docs)"
   ]
  },
  {
   "cell_type": "code",
   "execution_count": 7,
   "metadata": {},
   "outputs": [
    {
     "name": "stdout",
     "output_type": "stream",
     "text": [
      "[[40 14  0  0]\n",
      " [ 5 24  0  0]\n",
      " [ 3  9  0  0]\n",
      " [17 24  0  0]\n",
      " [ 7  0  0  0]\n",
      " [27  0  0  0]\n",
      " [11  9  0  0]\n",
      " [15  5  0  0]\n",
      " [11 24  0  0]\n",
      " [36 24 14  3]]\n"
     ]
    }
   ],
   "source": [
    "max_length = 4\n",
    "padded_docs = pad_sequences(encoded_docs, maxlen=max_length, padding='post')\n",
    "print(padded_docs)"
   ]
  },
  {
   "cell_type": "code",
   "execution_count": 8,
   "metadata": {},
   "outputs": [
    {
     "name": "stdout",
     "output_type": "stream",
     "text": [
      "_________________________________________________________________\n",
      "Layer (type)                 Output Shape              Param #   \n",
      "=================================================================\n",
      "embedding_1 (Embedding)      (None, 4, 8)              400       \n",
      "_________________________________________________________________\n",
      "flatten_1 (Flatten)          (None, 32)                0         \n",
      "_________________________________________________________________\n",
      "dense_1 (Dense)              (None, 1)                 33        \n",
      "=================================================================\n",
      "Total params: 433\n",
      "Trainable params: 433\n",
      "Non-trainable params: 0\n",
      "_________________________________________________________________\n",
      "None\n"
     ]
    }
   ],
   "source": [
    "\t\n",
    "# define the model#\n",
    "model = Sequential()\n",
    "model.add(Embedding(vocab_size, 8, input_length=max_length))\n",
    "model.add(Flatten())\n",
    "model.add(Dense(1, activation='sigmoid'))\n",
    "# compile the model\n",
    "model.compile(optimizer='adam', loss='binary_crossentropy', metrics=['acc'])\n",
    "# summarize the model\n",
    "print(model.summary())"
   ]
  },
  {
   "cell_type": "code",
   "execution_count": 9,
   "metadata": {},
   "outputs": [
    {
     "name": "stdout",
     "output_type": "stream",
     "text": [
      "Accuracy: 100.000000\n"
     ]
    }
   ],
   "source": [
    "model.fit(padded_docs, labels, epochs=50, verbose=0)\n",
    "# evaluate the model\n",
    "loss, accuracy = model.evaluate(padded_docs, labels, verbose=0)\n",
    "print('Accuracy: %f' % (accuracy*100))"
   ]
  },
  {
   "cell_type": "code",
   "execution_count": null,
   "metadata": {
    "collapsed": true
   },
   "outputs": [],
   "source": []
  }
 ],
 "metadata": {
  "kernelspec": {
   "display_name": "Python [default]",
   "language": "python",
   "name": "python3"
  },
  "language_info": {
   "codemirror_mode": {
    "name": "ipython",
    "version": 3
   },
   "file_extension": ".py",
   "mimetype": "text/x-python",
   "name": "python",
   "nbconvert_exporter": "python",
   "pygments_lexer": "ipython3",
   "version": "3.6.3"
  }
 },
 "nbformat": 4,
 "nbformat_minor": 2
}
